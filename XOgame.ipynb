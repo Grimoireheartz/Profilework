{
 "cells": [
  {
   "cell_type": "code",
   "execution_count": 1,
   "metadata": {},
   "outputs": [
    {
     "name": "stdout",
     "output_type": "stream",
     "text": [
      "Automatically created module for IPython interactive environment\n",
      "1 2 3\n",
      "4 5 6\n",
      "7 8 9\n",
      "I go at 2\n",
      "1 X 3\n",
      "4 5 6\n",
      "7 8 9\n",
      "You went at 1\n",
      "O X 3\n",
      "4 5 6\n",
      "7 8 9\n",
      "I go at 8\n",
      "O X 3\n",
      "4 5 6\n",
      "7 X 9\n",
      "Whoops I don't understand the input\n",
      "You went at 3\n",
      "O X O\n",
      "4 5 6\n",
      "7 X 9\n",
      "I go at 5\n",
      "O X O\n",
      "4 X 6\n",
      "7 X 9\n",
      "\n",
      "X wins across [2, 5, 8]\n"
     ]
    }
   ],
   "source": [
    "import random\n",
    "\n",
    "board = list('123456789')\n",
    "wins = ((0,1,2), (3,4,5), (6,7,8),\n",
    "        (0,3,6), (1,4,7), (2,5,8),\n",
    "        (0,4,8), (2,4,6))\n",
    "\n",
    "def printboard():\n",
    "    print('\\n'.join(' '.join(board[x:x+3]) for x in(0,3,6)))\n",
    "\n",
    "def score():\n",
    "    for w in wins:\n",
    "        b = board[w[0]]\n",
    "        if b in 'XO' and all (board[i] == b for i in w):\n",
    "            return b, [i+1 for i in w]\n",
    "    return None, None\n",
    "\n",
    "def finished():\n",
    "    return all (b in 'XO' for b in board)\n",
    "\n",
    "def space():\n",
    "    return [ b for b in board if b not in 'XO']\n",
    "\n",
    "def my_turn(xo):\n",
    "    options = space()\n",
    "    choice = random.choice(options)\n",
    "    board[int(choice)-1] = xo\n",
    "    return choice\n",
    "\n",
    "def your_turn(xo):\n",
    "    options = space()\n",
    "    while True:\n",
    "        choice = input(\" Put your %s in any of these positions: %s \"\n",
    "                       % (xo, ''.join(options))).strip()\n",
    "        if choice in options:\n",
    "            break\n",
    "        print( \"Whoops I don't understand the input\" )\n",
    "    board[int(choice)-1] = xo\n",
    "    return choice\n",
    "\n",
    "def me(xo='X'):\n",
    "    printboard()\n",
    "    print('I go at', my_turn(xo))\n",
    "    return score()\n",
    "    assert not s[0], \"\\n%s wins across %s\" % s\n",
    "\n",
    "def you(xo='O'):\n",
    "    printboard()\n",
    "    # Call my_turn(xo) below for it to play itself\n",
    "    print('You went at', your_turn(xo))\n",
    "    return score()\n",
    "    assert not s[0], \"\\n%s wins across %s\" % s\n",
    "\n",
    "\n",
    "print(__doc__)\n",
    "while not finished():\n",
    "    s = me('X')\n",
    "    if s[0]:\n",
    "        printboard()\n",
    "        print(\"\\n%s wins across %s\" % s)\n",
    "        break\n",
    "    if not finished():\n",
    "        s = you('O')\n",
    "        if s[0]:\n",
    "            printboard()\n",
    "            print(\"\\n%s wins across %s\" % s)\n",
    "            break\n",
    "else:\n",
    "    print('\\nA draw')"
   ]
  },
  {
   "cell_type": "markdown",
   "metadata": {},
   "source": []
  }
 ],
 "metadata": {
  "kernelspec": {
   "display_name": "Python 3.8.5 ('base')",
   "language": "python",
   "name": "python3"
  },
  "language_info": {
   "codemirror_mode": {
    "name": "ipython",
    "version": 3
   },
   "file_extension": ".py",
   "mimetype": "text/x-python",
   "name": "python",
   "nbconvert_exporter": "python",
   "pygments_lexer": "ipython3",
   "version": "3.8.5"
  },
  "orig_nbformat": 4,
  "vscode": {
   "interpreter": {
    "hash": "a90aeebcf29d64a654773811cc170cb25061cb2498f10ac689db374c7bf325de"
   }
  }
 },
 "nbformat": 4,
 "nbformat_minor": 2
}
